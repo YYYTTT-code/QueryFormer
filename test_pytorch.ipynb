{
 "cells": [
  {
   "cell_type": "code",
   "execution_count": 1,
   "metadata": {},
   "outputs": [
    {
     "name": "stderr",
     "output_type": "stream",
     "text": [
      "/opt/conda/envs/index/lib/python3.7/site-packages/tqdm/auto.py:22: TqdmWarning: IProgress not found. Please update jupyter and ipywidgets. See https://ipywidgets.readthedocs.io/en/stable/user_install.html\n",
      "  from .autonotebook import tqdm as notebook_tqdm\n"
     ]
    }
   ],
   "source": [
    "import torch.nn as nn\n",
    "import torch\n",
    "import numpy as np\n",
    "  "
   ]
  },
  {
   "cell_type": "markdown",
   "metadata": {},
   "source": [
    "测试nn.lineara()函数"
   ]
  },
  {
   "cell_type": "code",
   "execution_count": 2,
   "metadata": {},
   "outputs": [
    {
     "name": "stdout",
     "output_type": "stream",
     "text": [
      "tensor([[ 1.4079, -2.3592, -0.1182],\n",
      "        [11.4198, -2.7018,  5.5656]], grad_fn=<AddmmBackward0>)\n",
      "tensor([[[ 1.4079, -2.3592, -0.1182],\n",
      "         [ 1.7555, -3.3894, -0.1197],\n",
      "         [ 0.9583, -2.9405,  1.0735]],\n",
      "\n",
      "        [[ 3.0031, -3.2589, -0.8945],\n",
      "         [ 3.5085, -2.6882, -1.0139],\n",
      "         [ 2.0821, -3.8737,  0.0200]]], grad_fn=<AddBackward0>)\n"
     ]
    }
   ],
   "source": [
    "X_2dim=np.array([[1,2,3,4],[2,3,45,6]]) #二维数组(2,4)\n",
    "X_3dim=np.array([[[1,2,3,4],[2,3,4,6],[3,4,5,5]],[[1,1,5,6],[0,0,6,5],[3,3,5,7]]]) # 三维数组（2,3,4）\n",
    " \n",
    "#转成tensor的形式，因为Linear要求输入是float类型，因此还需要转成float32\n",
    "X2_tensor=torch.from_numpy(X_2dim.astype(np.float32))\n",
    "X3_tensor=torch.from_numpy(X_3dim.astype(np.float32))\n",
    " \n",
    "#用来改变最后数组最后一维的维度\n",
    "#用来缩小或者扩展特征维度\n",
    "emdeding=nn.Linear(4,3)\n",
    "Y2=emdeding(X2_tensor)\n",
    "Y3=emdeding(X3_tensor)\n",
    " \n",
    "#输出\n",
    "print(Y2)\n",
    "print(Y3)\n",
    " \n",
    "# #Y2\n",
    "# tensor([[ 0.6468,  0.6430,  0.4253],\n",
    "#         [-2.9180, -3.3393,  6.3075]], grad_fn=<AddmmBackward>)\n",
    " \n",
    "# #Y3\n",
    "# tensor([[[0.6468, 0.6430, 0.4253],\n",
    "#          [1.0562, 0.8781, 0.6216],\n",
    "#          [0.7615, 0.3500, 0.7439]],\n",
    " \n",
    "#         [[1.1430, 0.6462, 0.8132],\n",
    "#          [0.7745, 0.4598, 0.9190],\n",
    "#          [1.4516, 0.5589, 0.8545]]], grad_fn=<AddBackward0>)"
   ]
  },
  {
   "cell_type": "code",
   "execution_count": 4,
   "metadata": {},
   "outputs": [
    {
     "data": {
      "text/plain": [
       "Parameter containing:\n",
       "tensor([[-0.2908, -0.3606,  0.2357,  0.3816],\n",
       "        [-0.0081, -0.0528,  0.0168, -0.4930],\n",
       "        [ 0.3992,  0.2572,  0.1387, -0.3982]], requires_grad=True)"
      ]
     },
     "execution_count": 4,
     "metadata": {},
     "output_type": "execute_result"
    }
   ],
   "source": [
    "emdeding.weight"
   ]
  },
  {
   "cell_type": "code",
   "execution_count": 15,
   "metadata": {},
   "outputs": [
    {
     "data": {
      "text/plain": [
       "Parameter containing:\n",
       "tensor([ 0.1862, -0.3237,  0.1451], requires_grad=True)"
      ]
     },
     "execution_count": 15,
     "metadata": {},
     "output_type": "execute_result"
    }
   ],
   "source": [
    "emdeding.bias"
   ]
  },
  {
   "cell_type": "code",
   "execution_count": 12,
   "metadata": {},
   "outputs": [
    {
     "name": "stdout",
     "output_type": "stream",
     "text": [
      "[1 2 3 4]\n"
     ]
    }
   ],
   "source": [
    "print(X_3dim[0,0,:])"
   ]
  },
  {
   "cell_type": "code",
   "execution_count": 16,
   "metadata": {},
   "outputs": [
    {
     "data": {
      "text/plain": [
       "array([ 1.40790838, -2.3592093 , -0.11824024])"
      ]
     },
     "execution_count": 16,
     "metadata": {},
     "output_type": "execute_result"
    }
   ],
   "source": [
    "wgt=emdeding.weight.detach().numpy()\n",
    "bias=emdeding.bias.detach().numpy()\n",
    "np.dot(wgt,X_3dim[0,0,:])+bias"
   ]
  }
 ],
 "metadata": {
  "interpreter": {
   "hash": "a021fd1300656b57a2bd9531857ac10fc313bc7342178e057fdc6bb62a99fb8d"
  },
  "kernelspec": {
   "display_name": "Python 3.7.0 ('index')",
   "language": "python",
   "name": "python3"
  },
  "language_info": {
   "codemirror_mode": {
    "name": "ipython",
    "version": 3
   },
   "file_extension": ".py",
   "mimetype": "text/x-python",
   "name": "python",
   "nbconvert_exporter": "python",
   "pygments_lexer": "ipython3",
   "version": "3.7.0"
  },
  "orig_nbformat": 4
 },
 "nbformat": 4,
 "nbformat_minor": 2
}
