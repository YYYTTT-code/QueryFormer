{
 "cells": [
  {
   "cell_type": "code",
   "execution_count": 1,
   "metadata": {},
   "outputs": [
    {
     "name": "stderr",
     "output_type": "stream",
     "text": [
      "/opt/conda/envs/index/lib/python3.7/site-packages/tqdm/auto.py:22: TqdmWarning: IProgress not found. Please update jupyter and ipywidgets. See https://ipywidgets.readthedocs.io/en/stable/user_install.html\n",
      "  from .autonotebook import tqdm as notebook_tqdm\n"
     ]
    }
   ],
   "source": [
    "import torch.nn as nn\n",
    "import torch\n",
    "import numpy as np\n",
    "  "
   ]
  },
  {
   "cell_type": "markdown",
   "metadata": {},
   "source": [
    "测试nn.lineara()函数"
   ]
  },
  {
   "cell_type": "code",
   "execution_count": 2,
   "metadata": {},
   "outputs": [
    {
     "name": "stdout",
     "output_type": "stream",
     "text": [
      "tensor([[ 1.4079, -2.3592, -0.1182],\n",
      "        [11.4198, -2.7018,  5.5656]], grad_fn=<AddmmBackward0>)\n",
      "tensor([[[ 1.4079, -2.3592, -0.1182],\n",
      "         [ 1.7555, -3.3894, -0.1197],\n",
      "         [ 0.9583, -2.9405,  1.0735]],\n",
      "\n",
      "        [[ 3.0031, -3.2589, -0.8945],\n",
      "         [ 3.5085, -2.6882, -1.0139],\n",
      "         [ 2.0821, -3.8737,  0.0200]]], grad_fn=<AddBackward0>)\n"
     ]
    }
   ],
   "source": [
    "X_2dim=np.array([[1,2,3,4],[2,3,45,6]]) #二维数组(2,4)\n",
    "X_3dim=np.array([[[1,2,3,4],[2,3,4,6],[3,4,5,5]],[[1,1,5,6],[0,0,6,5],[3,3,5,7]]]) # 三维数组（2,3,4）\n",
    " \n",
    "#转成tensor的形式，因为Linear要求输入是float类型，因此还需要转成float32\n",
    "X2_tensor=torch.from_numpy(X_2dim.astype(np.float32))\n",
    "X3_tensor=torch.from_numpy(X_3dim.astype(np.float32))\n",
    " \n",
    "#用来改变最后数组最后一维的维度\n",
    "#用来缩小或者扩展特征维度\n",
    "emdeding=nn.Linear(4,3)\n",
    "Y2=emdeding(X2_tensor)\n",
    "Y3=emdeding(X3_tensor)\n",
    " \n",
    "#输出\n",
    "print(Y2)\n",
    "print(Y3)\n",
    " \n",
    "# #Y2\n",
    "# tensor([[ 0.6468,  0.6430,  0.4253],\n",
    "#         [-2.9180, -3.3393,  6.3075]], grad_fn=<AddmmBackward>)\n",
    " \n",
    "# #Y3\n",
    "# tensor([[[0.6468, 0.6430, 0.4253],\n",
    "#          [1.0562, 0.8781, 0.6216],\n",
    "#          [0.7615, 0.3500, 0.7439]],\n",
    " \n",
    "#         [[1.1430, 0.6462, 0.8132],\n",
    "#          [0.7745, 0.4598, 0.9190],\n",
    "#          [1.4516, 0.5589, 0.8545]]], grad_fn=<AddBackward0>)"
   ]
  },
  {
   "cell_type": "code",
   "execution_count": 4,
   "metadata": {},
   "outputs": [
    {
     "data": {
      "text/plain": [
       "Parameter containing:\n",
       "tensor([[-0.2908, -0.3606,  0.2357,  0.3816],\n",
       "        [-0.0081, -0.0528,  0.0168, -0.4930],\n",
       "        [ 0.3992,  0.2572,  0.1387, -0.3982]], requires_grad=True)"
      ]
     },
     "execution_count": 4,
     "metadata": {},
     "output_type": "execute_result"
    }
   ],
   "source": [
    "emdeding.weight"
   ]
  },
  {
   "cell_type": "code",
   "execution_count": 15,
   "metadata": {},
   "outputs": [
    {
     "data": {
      "text/plain": [
       "Parameter containing:\n",
       "tensor([ 0.1862, -0.3237,  0.1451], requires_grad=True)"
      ]
     },
     "execution_count": 15,
     "metadata": {},
     "output_type": "execute_result"
    }
   ],
   "source": [
    "emdeding.bias"
   ]
  },
  {
   "cell_type": "code",
   "execution_count": 12,
   "metadata": {},
   "outputs": [
    {
     "name": "stdout",
     "output_type": "stream",
     "text": [
      "[1 2 3 4]\n"
     ]
    }
   ],
   "source": [
    "print(X_3dim[0,0,:])"
   ]
  },
  {
   "cell_type": "code",
   "execution_count": 16,
   "metadata": {},
   "outputs": [
    {
     "data": {
      "text/plain": [
       "array([ 1.40790838, -2.3592093 , -0.11824024])"
      ]
     },
     "execution_count": 16,
     "metadata": {},
     "output_type": "execute_result"
    }
   ],
   "source": [
    "wgt=emdeding.weight.detach().numpy()\n",
    "bias=emdeding.bias.detach().numpy()\n",
    "np.dot(wgt,X_3dim[0,0,:])+bias"
   ]
  },
  {
   "cell_type": "code",
   "execution_count": 6,
   "metadata": {},
   "outputs": [
    {
     "data": {
      "text/plain": [
       "{'Plan': {'Node Type': 'Gather',\n",
       "  'Parallel Aware': False,\n",
       "  'Startup Cost': 23540.58,\n",
       "  'Total Cost': 154548.95,\n",
       "  'Plan Rows': 567655,\n",
       "  'Plan Width': 119,\n",
       "  'Actual Startup Time': 386.847,\n",
       "  'Actual Total Time': 646.972,\n",
       "  'Actual Rows': 283812,\n",
       "  'Actual Loops': 1,\n",
       "  'Workers Planned': 2,\n",
       "  'Workers Launched': 2,\n",
       "  'Single Copy': False,\n",
       "  'Plans': [{'Node Type': 'Hash Join',\n",
       "    'Parent Relationship': 'Outer',\n",
       "    'Parallel Aware': True,\n",
       "    'Join Type': 'Inner',\n",
       "    'Startup Cost': 22540.58,\n",
       "    'Total Cost': 96783.45,\n",
       "    'Plan Rows': 236523,\n",
       "    'Plan Width': 119,\n",
       "    'Actual Startup Time': 369.985,\n",
       "    'Actual Total Time': 518.487,\n",
       "    'Actual Rows': 94604,\n",
       "    'Actual Loops': 3,\n",
       "    'Inner Unique': False,\n",
       "    'Hash Cond': '(t.id = mi_idx.movie_id)',\n",
       "    'Workers': [],\n",
       "    'Plans': [{'Node Type': 'Seq Scan',\n",
       "      'Parent Relationship': 'Outer',\n",
       "      'Parallel Aware': True,\n",
       "      'Relation Name': 'title',\n",
       "      'Alias': 't',\n",
       "      'Startup Cost': 0.0,\n",
       "      'Total Cost': 49166.46,\n",
       "      'Plan Rows': 649574,\n",
       "      'Plan Width': 94,\n",
       "      'Actual Startup Time': 0.366,\n",
       "      'Actual Total Time': 147.047,\n",
       "      'Actual Rows': 514421,\n",
       "      'Actual Loops': 3,\n",
       "      'Filter': '(kind_id = 7)',\n",
       "      'Rows Removed by Filter': 328349,\n",
       "      'Workers': []},\n",
       "     {'Node Type': 'Hash',\n",
       "      'Parent Relationship': 'Inner',\n",
       "      'Parallel Aware': True,\n",
       "      'Startup Cost': 15122.68,\n",
       "      'Total Cost': 15122.68,\n",
       "      'Plan Rows': 383592,\n",
       "      'Plan Width': 25,\n",
       "      'Actual Startup Time': 103.547,\n",
       "      'Actual Total Time': 103.547,\n",
       "      'Actual Rows': 306703,\n",
       "      'Actual Loops': 3,\n",
       "      'Hash Buckets': 65536,\n",
       "      'Original Hash Buckets': 65536,\n",
       "      'Hash Batches': 32,\n",
       "      'Original Hash Batches': 32,\n",
       "      'Peak Memory Usage': 1920,\n",
       "      'Workers': [],\n",
       "      'Plans': [{'Node Type': 'Seq Scan',\n",
       "        'Parent Relationship': 'Outer',\n",
       "        'Parallel Aware': True,\n",
       "        'Relation Name': 'movie_info_idx',\n",
       "        'Alias': 'mi_idx',\n",
       "        'Startup Cost': 0.0,\n",
       "        'Total Cost': 15122.68,\n",
       "        'Plan Rows': 383592,\n",
       "        'Plan Width': 25,\n",
       "        'Actual Startup Time': 0.28,\n",
       "        'Actual Total Time': 54.382,\n",
       "        'Actual Rows': 306703,\n",
       "        'Actual Loops': 3,\n",
       "        'Filter': '(info_type_id > 99)',\n",
       "        'Rows Removed by Filter': 153308,\n",
       "        'Workers': []}]}]}]},\n",
       " 'Planning Time': 2.382,\n",
       " 'Triggers': [],\n",
       " 'Execution Time': 654.241}"
      ]
     },
     "execution_count": 6,
     "metadata": {},
     "output_type": "execute_result"
    }
   ],
   "source": [
    "# a= '{\"\"Plan\"\": {\"\"Node Type\"\": \"\"Gather\"\", \"\"Parallel Aware\"\": false, \"\"Startup Cost\"\": 23540.58, \"\"Total Cost\"\": 154548.95, \"\"Plan Rows\"\": 567655, \"\"Plan Width\"\": 119, \"\"Actual Startup Time\"\": 386.847, \"\"Actual Total Time\"\": 646.972, \"\"Actual Rows\"\": 283812, \"\"Actual Loops\"\": 1, \"\"Workers Planned\"\": 2, \"\"Workers Launched\"\": 2, \"\"Single Copy\"\": false, \"\"Plans\"\": [{\"\"Node Type\"\": \"\"Hash Join\"\", \"\"Parent Relationship\"\": \"\"Outer\"\", \"\"Parallel Aware\"\": true, \"\"Join Type\"\": \"\"Inner\"\", \"\"Startup Cost\"\": 22540.58, \"\"Total Cost\"\": 96783.45, \"\"Plan Rows\"\": 236523, \"\"Plan Width\"\": 119, \"\"Actual Startup Time\"\": 369.985, \"\"Actual Total Time\"\": 518.487, \"\"Actual Rows\"\": 94604, \"\"Actual Loops\"\": 3, \"\"Inner Unique\"\": false, \"\"Hash Cond\"\": \"\"(t.id = mi_idx.movie_id)\"\", \"\"Workers\"\": [], \"\"Plans\"\": [{\"\"Node Type\"\": \"\"Seq Scan\"\", \"\"Parent Relationship\"\": \"\"Outer\"\", \"\"Parallel Aware\"\": true, \"\"Relation Name\"\": \"\"title\"\", \"\"Alias\"\": \"\"t\"\", \"\"Startup Cost\"\": 0.0, \"\"Total Cost\"\": 49166.46, \"\"Plan Rows\"\": 649574, \"\"Plan Width\"\": 94, \"\"Actual Startup Time\"\": 0.366, \"\"Actual Total Time\"\": 147.047, \"\"Actual Rows\"\": 514421, \"\"Actual Loops\"\": 3, \"\"Filter\"\": \"\"(kind_id = 7)\"\", \"\"Rows Removed by Filter\"\": 328349, \"\"Workers\"\": []}, {\"\"Node Type\"\": \"\"Hash\"\", \"\"Parent Relationship\"\": \"\"Inner\"\", \"\"Parallel Aware\"\": true, \"\"Startup Cost\"\": 15122.68, \"\"Total Cost\"\": 15122.68, \"\"Plan Rows\"\": 383592, \"\"Plan Width\"\": 25, \"\"Actual Startup Time\"\": 103.547, \"\"Actual Total Time\"\": 103.547, \"\"Actual Rows\"\": 306703, \"\"Actual Loops\"\": 3, \"\"Hash Buckets\"\": 65536, \"\"Original Hash Buckets\"\": 65536, \"\"Hash Batches\"\": 32, \"\"Original Hash Batches\"\": 32, \"\"Peak Memory Usage\"\": 1920, \"\"Workers\"\": [], \"\"Plans\"\": [{\"\"Node Type\"\": \"\"Seq Scan\"\", \"\"Parent Relationship\"\": \"\"Outer\"\", \"\"Parallel Aware\"\": true, \"\"Relation Name\"\": \"\"movie_info_idx\"\", \"\"Alias\"\": \"\"mi_idx\"\", \"\"Startup Cost\"\": 0.0, \"\"Total Cost\"\": 15122.68, \"\"Plan Rows\"\": 383592, \"\"Plan Width\"\": 25, \"\"Actual Startup Time\"\": 0.28, \"\"Actual Total Time\"\": 54.382, \"\"Actual Rows\"\": 306703, \"\"Actual Loops\"\": 3, \"\"Filter\"\": \"\"(info_type_id > 99)\"\", \"\"Rows Removed by Filter\"\": 153308, \"\"Workers\"\": []}]}]}]}, \"\"Planning Time\"\": 2.382, \"\"Triggers\"\": [], \"\"Execution Time\"\": 654.241}'\n",
    "# print(a.replace('\"\"','\"'))\n",
    "\n",
    "# 将csv中的plan，转换成json文件再输出，方便看\n",
    "\n",
    "# import json\n",
    "# with open('./a.json','r') as f:\n",
    "#     a=json.load(f)\n",
    "# a"
   ]
  }
 ],
 "metadata": {
  "interpreter": {
   "hash": "a021fd1300656b57a2bd9531857ac10fc313bc7342178e057fdc6bb62a99fb8d"
  },
  "kernelspec": {
   "display_name": "Python 3.7.0 ('index')",
   "language": "python",
   "name": "python3"
  },
  "language_info": {
   "codemirror_mode": {
    "name": "ipython",
    "version": 3
   },
   "file_extension": ".py",
   "mimetype": "text/x-python",
   "name": "python",
   "nbconvert_exporter": "python",
   "pygments_lexer": "ipython3",
   "version": "3.7.0"
  },
  "orig_nbformat": 4
 },
 "nbformat": 4,
 "nbformat_minor": 2
}
