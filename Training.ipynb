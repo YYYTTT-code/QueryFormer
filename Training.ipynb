{
 "cells": [
  {
   "cell_type": "code",
   "execution_count": 8,
   "id": "d9c5213b",
   "metadata": {},
   "outputs": [],
   "source": [
    "import numpy as np\n",
    "import os\n",
    "import torch\n",
    "import torch.nn as nn\n",
    "import time\n",
    "import pandas as pd\n",
    "from scipy.stats import pearsonr"
   ]
  },
  {
   "cell_type": "code",
   "execution_count": 9,
   "id": "037bec4a",
   "metadata": {},
   "outputs": [],
   "source": [
    "from model.util import Normalizer\n",
    "from model.database_util import get_hist_file, get_job_table_sample, collator\n",
    "from model.model import QueryFormer\n",
    "from model.database_util import Encoding\n",
    "from model.dataset import PlanTreeDataset\n",
    "from model.trainer import eval_workload, train"
   ]
  },
  {
   "cell_type": "code",
   "execution_count": 10,
   "id": "822fdcaf",
   "metadata": {},
   "outputs": [],
   "source": [
    "data_path = './data/imdb/'"
   ]
  },
  {
   "cell_type": "code",
   "execution_count": 11,
   "id": "fbcd4773",
   "metadata": {},
   "outputs": [],
   "source": [
    "class Args:\n",
    "    bs = 1024\n",
    "    lr = 0.001\n",
    "    epochs = 200\n",
    "    clip_size = 50\n",
    "    embed_size = 64\n",
    "    pred_hid = 128\n",
    "    ffn_dim = 128\n",
    "    head_size = 12\n",
    "    n_layers = 8\n",
    "    dropout = 0.1\n",
    "    sch_decay = 0.6\n",
    "    device = 'cuda:0'\n",
    "    newpath = './results/full/cost/'\n",
    "    to_predict = 'cost'\n",
    "args = Args()\n",
    "\n",
    "import os\n",
    "if not os.path.exists(args.newpath):\n",
    "    os.makedirs(args.newpath)"
   ]
  },
  {
   "cell_type": "code",
   "execution_count": null,
   "id": "4e5a9113",
   "metadata": {},
   "outputs": [],
   "source": []
  },
  {
   "cell_type": "code",
   "execution_count": 12,
   "id": "aace65f6",
   "metadata": {},
   "outputs": [],
   "source": [
    "# 我以为连接数据库得到的统计信息，结果是存在了csv文件夹里（当然也可能是方便展示）\n",
    "hist_file = get_hist_file(data_path + 'histogram_string.csv')\n",
    "cost_norm = Normalizer(-3.61192, 12.290855)\n",
    "card_norm = Normalizer(1,100)"
   ]
  },
  {
   "cell_type": "code",
   "execution_count": 13,
   "id": "4e5f421a",
   "metadata": {},
   "outputs": [],
   "source": [
    "# encoder部分，直接加载训练好的\n",
    "encoding_ckpt = torch.load('checkpoints/encoding.pt')\n",
    "encoding = encoding_ckpt['encoding']\n",
    "checkpoint = torch.load('checkpoints/cost_model.pt', map_location='cpu')"
   ]
  },
  {
   "cell_type": "code",
   "execution_count": 20,
   "id": "8e1d477e",
   "metadata": {},
   "outputs": [
    {
     "data": {
      "text/plain": [
       "{None: 0,\n",
       " 'mi_idx.movie_id = t.id': 1,\n",
       " 'mc.movie_id = t.id': 2,\n",
       " 'mi.movie_id = t.id': 3,\n",
       " 'ci.movie_id = t.id': 4,\n",
       " 'mk.movie_id = t.id': 5,\n",
       " 'ci.movie_id = mk.movie_id': 6,\n",
       " 'mi.movie_id = mk.movie_id': 7,\n",
       " 'mi_idx.movie_id = mk.movie_id': 8,\n",
       " 'mc.movie_id = mk.movie_id': 9,\n",
       " 'ci.movie_id = mi_idx.movie_id': 10,\n",
       " 'ci.movie_id = mc.movie_id': 11,\n",
       " 'ci.movie_id = mi.movie_id': 12,\n",
       " 'mi.movie_id = mi_idx.movie_id': 13,\n",
       " 'mc.movie_id = mi_idx.movie_id': 14,\n",
       " 'mc.movie_id = mi.movie_id': 15}"
      ]
     },
     "execution_count": 20,
     "metadata": {},
     "output_type": "execute_result"
    }
   ],
   "source": [
    "dir(encoding)\n",
    "encoding.join2idx"
   ]
  },
  {
   "cell_type": "code",
   "execution_count": 7,
   "id": "71759b41",
   "metadata": {},
   "outputs": [],
   "source": [
    "from model.util import seed_everything\n",
    "seed_everything()"
   ]
  },
  {
   "cell_type": "code",
   "execution_count": null,
   "id": "fc547102",
   "metadata": {},
   "outputs": [],
   "source": []
  },
  {
   "cell_type": "code",
   "execution_count": 8,
   "id": "f9592f60",
   "metadata": {},
   "outputs": [],
   "source": [
    "model = QueryFormer(emb_size = args.embed_size ,ffn_dim = args.ffn_dim, head_size = args.head_size, \\\n",
    "                 dropout = args.dropout, n_layers = args.n_layers, \\\n",
    "                 use_sample = True, use_hist = True, \\\n",
    "                 pred_hid = args.pred_hid\n",
    "                )"
   ]
  },
  {
   "cell_type": "code",
   "execution_count": 9,
   "id": "85e27584",
   "metadata": {},
   "outputs": [],
   "source": [
    "_ = model.to(args.device)"
   ]
  },
  {
   "cell_type": "code",
   "execution_count": 10,
   "id": "6c8a7d25",
   "metadata": {},
   "outputs": [],
   "source": [
    "to_predict = 'cost'"
   ]
  },
  {
   "cell_type": "code",
   "execution_count": null,
   "id": "fb05e3ac",
   "metadata": {},
   "outputs": [],
   "source": []
  },
  {
   "cell_type": "code",
   "execution_count": 11,
   "id": "4286ce8d",
   "metadata": {},
   "outputs": [
    {
     "name": "stdout",
     "output_type": "stream",
     "text": [
      "Loaded queries with len  100000\n",
      "Loaded bitmaps\n"
     ]
    }
   ],
   "source": [
    "imdb_path = './data/imdb/'\n",
    "full_train_df = pd.DataFrame()\n",
    "for i in range(18):\n",
    "    file = imdb_path + 'plan_and_cost/train_plan_part{}.csv'.format(i)\n",
    "    df = pd.read_csv(file)\n",
    "    full_train_df = full_train_df.append(df)\n",
    "\n",
    "val_df = pd.DataFrame()\n",
    "for i in range(18,20):\n",
    "    file = imdb_path + 'plan_and_cost/train_plan_part{}.csv'.format(i)\n",
    "    df = pd.read_csv(file)\n",
    "    val_df = val_df.append(df)\n",
    "table_sample = get_job_table_sample(imdb_path+'train')"
   ]
  },
  {
   "cell_type": "code",
   "execution_count": 12,
   "id": "7fb2a064",
   "metadata": {},
   "outputs": [
    {
     "data": {
      "text/html": [
       "<div>\n",
       "<style scoped>\n",
       "    .dataframe tbody tr th:only-of-type {\n",
       "        vertical-align: middle;\n",
       "    }\n",
       "\n",
       "    .dataframe tbody tr th {\n",
       "        vertical-align: top;\n",
       "    }\n",
       "\n",
       "    .dataframe thead th {\n",
       "        text-align: right;\n",
       "    }\n",
       "</style>\n",
       "<table border=\"1\" class=\"dataframe\">\n",
       "  <thead>\n",
       "    <tr style=\"text-align: right;\">\n",
       "      <th></th>\n",
       "      <th>id</th>\n",
       "      <th>json</th>\n",
       "    </tr>\n",
       "  </thead>\n",
       "  <tbody>\n",
       "    <tr>\n",
       "      <th>0</th>\n",
       "      <td>0</td>\n",
       "      <td>{\"Plan\": {\"Node Type\": \"Gather\", \"Parallel Awa...</td>\n",
       "    </tr>\n",
       "    <tr>\n",
       "      <th>1</th>\n",
       "      <td>1</td>\n",
       "      <td>{\"Plan\": {\"Node Type\": \"Seq Scan\", \"Parallel A...</td>\n",
       "    </tr>\n",
       "    <tr>\n",
       "      <th>2</th>\n",
       "      <td>2</td>\n",
       "      <td>{\"Plan\": {\"Node Type\": \"Seq Scan\", \"Parallel A...</td>\n",
       "    </tr>\n",
       "    <tr>\n",
       "      <th>3</th>\n",
       "      <td>3</td>\n",
       "      <td>{\"Plan\": {\"Node Type\": \"Gather\", \"Parallel Awa...</td>\n",
       "    </tr>\n",
       "    <tr>\n",
       "      <th>4</th>\n",
       "      <td>4</td>\n",
       "      <td>{\"Plan\": {\"Node Type\": \"Bitmap Heap Scan\", \"Pa...</td>\n",
       "    </tr>\n",
       "    <tr>\n",
       "      <th>...</th>\n",
       "      <td>...</td>\n",
       "      <td>...</td>\n",
       "    </tr>\n",
       "    <tr>\n",
       "      <th>4995</th>\n",
       "      <td>89995</td>\n",
       "      <td>{\"Plan\": {\"Node Type\": \"Nested Loop\", \"Paralle...</td>\n",
       "    </tr>\n",
       "    <tr>\n",
       "      <th>4996</th>\n",
       "      <td>89996</td>\n",
       "      <td>{\"Plan\": {\"Node Type\": \"Index Scan\", \"Parallel...</td>\n",
       "    </tr>\n",
       "    <tr>\n",
       "      <th>4997</th>\n",
       "      <td>89997</td>\n",
       "      <td>{\"Plan\": {\"Node Type\": \"Gather\", \"Parallel Awa...</td>\n",
       "    </tr>\n",
       "    <tr>\n",
       "      <th>4998</th>\n",
       "      <td>89998</td>\n",
       "      <td>{\"Plan\": {\"Node Type\": \"Seq Scan\", \"Parallel A...</td>\n",
       "    </tr>\n",
       "    <tr>\n",
       "      <th>4999</th>\n",
       "      <td>89999</td>\n",
       "      <td>{\"Plan\": {\"Node Type\": \"Gather\", \"Parallel Awa...</td>\n",
       "    </tr>\n",
       "  </tbody>\n",
       "</table>\n",
       "<p>90000 rows × 2 columns</p>\n",
       "</div>"
      ],
      "text/plain": [
       "         id                                               json\n",
       "0         0  {\"Plan\": {\"Node Type\": \"Gather\", \"Parallel Awa...\n",
       "1         1  {\"Plan\": {\"Node Type\": \"Seq Scan\", \"Parallel A...\n",
       "2         2  {\"Plan\": {\"Node Type\": \"Seq Scan\", \"Parallel A...\n",
       "3         3  {\"Plan\": {\"Node Type\": \"Gather\", \"Parallel Awa...\n",
       "4         4  {\"Plan\": {\"Node Type\": \"Bitmap Heap Scan\", \"Pa...\n",
       "...     ...                                                ...\n",
       "4995  89995  {\"Plan\": {\"Node Type\": \"Nested Loop\", \"Paralle...\n",
       "4996  89996  {\"Plan\": {\"Node Type\": \"Index Scan\", \"Parallel...\n",
       "4997  89997  {\"Plan\": {\"Node Type\": \"Gather\", \"Parallel Awa...\n",
       "4998  89998  {\"Plan\": {\"Node Type\": \"Seq Scan\", \"Parallel A...\n",
       "4999  89999  {\"Plan\": {\"Node Type\": \"Gather\", \"Parallel Awa...\n",
       "\n",
       "[90000 rows x 2 columns]"
      ]
     },
     "execution_count": 12,
     "metadata": {},
     "output_type": "execute_result"
    }
   ],
   "source": [
    "full_train_df"
   ]
  },
  {
   "cell_type": "code",
   "execution_count": 12,
   "id": "98d193b2",
   "metadata": {},
   "outputs": [
    {
     "name": "stderr",
     "output_type": "stream",
     "text": [
      "F:\\Github\\QueryFormer-Release Version\\model\\dataset.py:109: UserWarning: Creating a tensor from a list of numpy.ndarrays is extremely slow. Please consider converting the list to a single numpy.ndarray with numpy.array() before converting to a tensor. (Triggered internally at  C:\\cb\\pytorch_1000000000000\\work\\torch\\csrc\\utils\\tensor_new.cpp:210.)\n",
      "  'features' : torch.FloatTensor(features),\n"
     ]
    }
   ],
   "source": [
    "train_ds = PlanTreeDataset(full_train_df, None, encoding, hist_file, card_norm, cost_norm, to_predict, table_sample)\n",
    "val_ds = PlanTreeDataset(val_df, None, encoding, hist_file, card_norm, cost_norm, to_predict, table_sample)"
   ]
  },
  {
   "cell_type": "code",
   "execution_count": 13,
   "id": "bdcefceb",
   "metadata": {},
   "outputs": [
    {
     "name": "stdout",
     "output_type": "stream",
     "text": [
      "Epoch: 0  Avg Loss: 1.7558196942425435e-05, Time: 34.624067306518555\n",
      "Median: 2.612529754759801\n",
      "Mean: 408.87085068470975\n",
      "Epoch: 20  Avg Loss: 9.952369812203364e-07, Time: 691.9167795181274\n",
      "Median: 1.1413855878989845\n",
      "Mean: 1.5584855022427344\n",
      "Epoch: 40  Avg Loss: 8.243279602740788e-07, Time: 1360.6300423145294\n",
      "Median: 1.1049955399020734\n",
      "Mean: 1.4659079084318005\n",
      "Epoch: 60  Avg Loss: 7.719535037823435e-07, Time: 2071.088265657425\n",
      "Median: 1.093797157958328\n",
      "Mean: 1.4326517437497097\n",
      "Epoch: 80  Avg Loss: 7.282165991556313e-07, Time: 2774.7058358192444\n",
      "Median: 1.0826038085533964\n",
      "Mean: 1.4045129295801333\n",
      "Epoch: 100  Avg Loss: 6.846819868466507e-07, Time: 3473.196921825409\n",
      "Median: 1.0788684341139938\n",
      "Mean: 1.3818407950326816\n",
      "Epoch: 120  Avg Loss: 6.433513170729081e-07, Time: 4168.938290834427\n",
      "Median: 1.073025687601357\n",
      "Mean: 1.3610806416361587\n",
      "Epoch: 140  Avg Loss: 6.067492885954885e-07, Time: 4859.934057474136\n",
      "Median: 1.070786768600955\n",
      "Mean: 1.3437374549677246\n",
      "Epoch: 160  Avg Loss: 5.823025188874454e-07, Time: 5554.166840553284\n",
      "Median: 1.0680357153631486\n",
      "Mean: 1.3326914243885368\n",
      "Epoch: 180  Avg Loss: 5.690472801992048e-07, Time: 6255.087592124939\n",
      "Median: 1.067344832988722\n",
      "Mean: 1.3253998958234905\n"
     ]
    }
   ],
   "source": [
    "crit = nn.MSELoss()\n",
    "model, best_path = train(model, train_ds, val_ds, crit, cost_norm, args)"
   ]
  },
  {
   "cell_type": "code",
   "execution_count": null,
   "id": "68dc344e",
   "metadata": {},
   "outputs": [],
   "source": []
  },
  {
   "cell_type": "code",
   "execution_count": null,
   "id": "c8f1095a",
   "metadata": {},
   "outputs": [],
   "source": []
  },
  {
   "cell_type": "code",
   "execution_count": 15,
   "id": "bfa517f2",
   "metadata": {},
   "outputs": [],
   "source": [
    "methods = {\n",
    "    'get_sample' : get_job_table_sample,\n",
    "    'encoding': encoding,\n",
    "    'cost_norm': cost_norm,\n",
    "    'hist_file': hist_file,\n",
    "    'model': model,\n",
    "    'device': args.device,\n",
    "    'bs': 512,\n",
    "}"
   ]
  },
  {
   "cell_type": "code",
   "execution_count": null,
   "id": "bf2b14a9",
   "metadata": {},
   "outputs": [],
   "source": []
  },
  {
   "cell_type": "code",
   "execution_count": null,
   "id": "bd9e7796",
   "metadata": {},
   "outputs": [],
   "source": []
  },
  {
   "cell_type": "code",
   "execution_count": 16,
   "id": "fd89df96",
   "metadata": {},
   "outputs": [
    {
     "name": "stdout",
     "output_type": "stream",
     "text": [
      "Loaded queries with len  70\n",
      "Loaded bitmaps\n",
      "Median: 1.6015447359157347\n",
      "Mean: 15.04861380976482\n",
      "Corr:  0.8955015382416885\n"
     ]
    }
   ],
   "source": [
    "_ = eval_workload('job-light', methods)"
   ]
  },
  {
   "cell_type": "code",
   "execution_count": 17,
   "id": "9e40c30c",
   "metadata": {},
   "outputs": [
    {
     "name": "stdout",
     "output_type": "stream",
     "text": [
      "Loaded queries with len  5000\n",
      "Loaded bitmaps\n",
      "Median: 1.0554397104507522\n",
      "Mean: 1.7017223965744472\n",
      "Corr:  0.9835725288032631\n"
     ]
    }
   ],
   "source": [
    "_ = eval_workload('synthetic', methods)"
   ]
  },
  {
   "cell_type": "code",
   "execution_count": null,
   "id": "b30aceed",
   "metadata": {},
   "outputs": [],
   "source": []
  },
  {
   "cell_type": "code",
   "execution_count": null,
   "id": "5e47dfb9",
   "metadata": {},
   "outputs": [],
   "source": []
  },
  {
   "cell_type": "code",
   "execution_count": null,
   "id": "f0622ba9",
   "metadata": {},
   "outputs": [],
   "source": []
  },
  {
   "cell_type": "code",
   "execution_count": null,
   "id": "21b92aa3",
   "metadata": {},
   "outputs": [],
   "source": []
  },
  {
   "cell_type": "code",
   "execution_count": null,
   "id": "a3ceb39d",
   "metadata": {},
   "outputs": [],
   "source": []
  }
 ],
 "metadata": {
  "kernelspec": {
   "display_name": "Python 3",
   "language": "python",
   "name": "python3"
  },
  "language_info": {
   "codemirror_mode": {
    "name": "ipython",
    "version": 3
   },
   "file_extension": ".py",
   "mimetype": "text/x-python",
   "name": "python",
   "nbconvert_exporter": "python",
   "pygments_lexer": "ipython3",
   "version": "3.7.0"
  }
 },
 "nbformat": 4,
 "nbformat_minor": 5
}
